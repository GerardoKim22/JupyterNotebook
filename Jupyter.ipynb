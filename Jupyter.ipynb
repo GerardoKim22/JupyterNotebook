{
  "nbformat": 4,
  "nbformat_minor": 0,
  "metadata": {
    "colab": {
      "provenance": []
    },
    "kernelspec": {
      "name": "python3",
      "display_name": "Python 3"
    },
    "language_info": {
      "name": "python"
    }
  },
  "cells": [
    {
      "cell_type": "markdown",
      "source": [
        "# Jupyter Notebook\n",
        "Es una interfaz web de código abierto que permite la inclusión de texto, vıdeo, audio, imágenes ası como la ejecución de código a través del navegador en múltiples lenguajes. Esta ejecución se realiza mediante la comunicación con un núcleo (Kernel) de cálculo."
      ],
      "metadata": {
        "id": "-sVwNJG0_9Ek"
      }
    },
    {
      "cell_type": "markdown",
      "source": [
        "## Ejemplo"
      ],
      "metadata": {
        "id": "ghf2hnQpAghn"
      }
    },
    {
      "cell_type": "code",
      "source": [
        "a=13+22\n",
        "print(a)\n",
        "\n",
        "b=\"Hola mundo\"\n",
        "print(b)"
      ],
      "metadata": {
        "colab": {
          "base_uri": "https://localhost:8080/"
        },
        "id": "DISe3jrdAjXI",
        "outputId": "123f2431-0de2-469a-e51c-c4a4f8be409d"
      },
      "execution_count": 1,
      "outputs": [
        {
          "output_type": "stream",
          "name": "stdout",
          "text": [
            "35\n",
            "Hola mundo\n"
          ]
        }
      ]
    }
  ]
}